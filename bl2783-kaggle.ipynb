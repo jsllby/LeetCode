{
 "cells": [
  {
   "cell_type": "code",
   "execution_count": 1,
   "metadata": {
    "_cell_guid": "b1076dfc-b9ad-4769-8c92-a6c4dae69d19",
    "_uuid": "8f2839f25d086af736a60e9eeb907d3b93b6e0e5"
   },
   "outputs": [
    {
     "name": "stdout",
     "output_type": "stream",
     "text": [
      "/kaggle/input/f2019-aihw7/mnist-train-labels.npy\n",
      "/kaggle/input/f2019-aihw7/mnist-train-images.npy\n",
      "/kaggle/input/f2019-aihw7/mnist-val-images.npy\n",
      "/kaggle/input/f2019-aihw7/scan-train-labels.npy\n",
      "/kaggle/input/f2019-aihw7/scan-test-images.npy\n",
      "/kaggle/input/f2019-aihw7/mnist-val-labels.npy\n",
      "/kaggle/input/f2019-aihw7/scan-train-images.npy\n"
     ]
    }
   ],
   "source": [
    "# This Python 3 environment comes with many helpful analytics libraries installed\n",
    "# It is defined by the kaggle/python docker image: https://github.com/kaggle/docker-python\n",
    "# For example, here's several helpful packages to load in \n",
    "\n",
    "import numpy as np # linear algebra\n",
    "import pandas as pd # data processing, CSV file I/O (e.g. pd.read_csv)\n",
    "\n",
    "# Input data files are available in the \"../input/\" directory.\n",
    "# For example, running this (by clicking run or pressing Shift+Enter) will list all files under the input directory\n",
    "\n",
    "import os\n",
    "for dirname, _, filenames in os.walk('/kaggle/input'):\n",
    "    for filename in filenames:\n",
    "        print(os.path.join(dirname, filename))\n",
    "\n",
    "# Any results you write to the current directory are saved as output."
   ]
  },
  {
   "cell_type": "code",
   "execution_count": 2,
   "metadata": {
    "_cell_guid": "79c7e3d0-c299-4dcb-8224-4455121ee9b0",
    "_uuid": "d629ff2d2480ee46fbb7e2d37f6b5fab8052498a"
   },
   "outputs": [],
   "source": [
    "%matplotlib inline\n",
    "import numpy as np\n",
    "import matplotlib.pyplot as plt\n",
    "\n",
    "# These paths are unique to Kaggle, obviously. Use your local path or colab path, depending on which you're using.\n",
    "mnist_train_x = np.load('/kaggle/input/f2019-aihw7/mnist-train-images.npy')\n",
    "mnist_train_y = np.load('/kaggle/input/f2019-aihw7/mnist-train-labels.npy')\n",
    "mnist_val_x = np.load('/kaggle/input/f2019-aihw7/mnist-val-images.npy')\n",
    "mnist_val_y = np.load('/kaggle/input/f2019-aihw7/mnist-val-labels.npy')\n",
    "scan_train_x = np.load('/kaggle/input/f2019-aihw7/scan-train-images.npy')\n",
    "scan_train_y = np.load('/kaggle/input/f2019-aihw7/scan-train-labels.npy')\n",
    "scan_test_x = np.load('/kaggle/input/f2019-aihw7/scan-test-images.npy')"
   ]
  },
  {
   "cell_type": "code",
   "execution_count": 3,
   "metadata": {},
   "outputs": [
    {
     "data": {
      "text/plain": [
       "array([5, 0, 4, ..., 5, 6, 8], dtype=uint8)"
      ]
     },
     "execution_count": 3,
     "metadata": {},
     "output_type": "execute_result"
    }
   ],
   "source": [
    "mnist_train_y"
   ]
  },
  {
   "cell_type": "code",
   "execution_count": 4,
   "metadata": {},
   "outputs": [],
   "source": [
    "pivot = 2500\n",
    "train_x = np.vstack((mnist_train_x,scan_train_x[:pivot]))\n",
    "train_y = np.hstack((mnist_train_y,scan_train_y[:pivot]))\n",
    "val_x = np.vstack((mnist_val_x,scan_train_x[pivot:]))\n",
    "val_y = np.hstack((mnist_val_y,scan_train_y[pivot:]))"
   ]
  },
  {
   "cell_type": "code",
   "execution_count": 5,
   "metadata": {},
   "outputs": [
    {
     "data": {
      "image/png": "[encoded data removed]",
      "text/plain": [
       "<Figure size 432x288 with 5 Axes>"
      ]
     },
     "metadata": {
      "needs_background": "light"
     },
     "output_type": "display_data"
    }
   ],
   "source": [
    "fig, (ax1, ax2, ax3,ax4,ax5) = plt.subplots(nrows=1, ncols=5)\n",
    "i = 1234\n",
    "ax1.imshow(scan_test_x[i+1], cmap=plt.get_cmap('gray'))\n",
    "ax2.imshow(scan_test_x[i+2], cmap=plt.get_cmap('gray'))\n",
    "ax3.imshow(scan_test_x[i+3], cmap=plt.get_cmap('gray'))\n",
    "ax4.imshow(scan_test_x[i+4], cmap=plt.get_cmap('gray'))\n",
    "ax5.imshow(scan_test_x[i+5], cmap=plt.get_cmap('gray'))\n",
    "\n",
    "fig.show()"
   ]
  },
  {
   "cell_type": "code",
   "execution_count": 6,
   "metadata": {},
   "outputs": [
    {
     "name": "stderr",
     "output_type": "stream",
     "text": [
      "Using TensorFlow backend.\n"
     ]
    }
   ],
   "source": [
    "import keras\n",
    "train_x = train_x[:,:,:,np.newaxis].astype(np.float)/255\n",
    "val_x = val_x[:,:,:,np.newaxis].astype(np.float)/255\n",
    "train_y = keras.utils.to_categorical(train_y, 10)\n",
    "val_y = keras.utils.to_categorical(val_y, 10)\n",
    "\n",
    "scan_test_x = scan_test_x[:,:,:,np.newaxis].astype(np.float)/255"
   ]
  },
  {
   "cell_type": "code",
   "execution_count": 7,
   "metadata": {},
   "outputs": [],
   "source": [
    "from keras.models import Sequential\n",
    "from keras.layers import Conv2D, MaxPooling2D, Dense, Flatten,Dropout\n",
    "\n",
    "model = Sequential([\n",
    "    Conv2D(32, (5,5), activation='relu', input_shape=(28, 28, 1),dilation_rate=(1, 1)),\n",
    "    Conv2D(64, (5,5), activation='relu',dilation_rate=(1, 1)),\n",
    "    MaxPooling2D(pool_size=(2,2)),\n",
    "    Flatten(),\n",
    "    Dropout(0.5),\n",
    "    Dense(128, activation='relu'),\n",
    "    Dropout(0.5),\n",
    "    Dense(10, activation='softmax')\n",
    "])"
   ]
  },
  {
   "cell_type": "code",
   "execution_count": 8,
   "metadata": {},
   "outputs": [],
   "source": [
    "model.compile(loss=keras.losses.categorical_crossentropy,\n",
    "             optimizer=keras.optimizers.SGD(),\n",
    "             metrics=['accuracy'])"
   ]
  },
  {
   "cell_type": "code",
   "execution_count": 9,
   "metadata": {},
   "outputs": [
    {
     "name": "stdout",
     "output_type": "stream",
     "text": [
      "Train on 62500 samples, validate on 11280 samples\n",
      "Epoch 1/10\n",
      "62500/62500 [==============================] - 17s 278us/step - loss: 0.4385 - accuracy: 0.8598 - val_loss: 0.1039 - val_accuracy: 0.9690\n",
      "Epoch 2/10\n",
      "62500/62500 [==============================] - 16s 250us/step - loss: 0.1509 - accuracy: 0.9547 - val_loss: 0.0697 - val_accuracy: 0.9776\n",
      "Epoch 3/10\n",
      "62500/62500 [==============================] - 16s 252us/step - loss: 0.1126 - accuracy: 0.9660 - val_loss: 0.0499 - val_accuracy: 0.9850\n",
      "Epoch 4/10\n",
      "62500/62500 [==============================] - 16s 255us/step - loss: 0.0954 - accuracy: 0.9711 - val_loss: 0.0472 - val_accuracy: 0.9846\n",
      "Epoch 5/10\n",
      "62500/62500 [==============================] - 16s 250us/step - loss: 0.0816 - accuracy: 0.9753 - val_loss: 0.0398 - val_accuracy: 0.9871\n",
      "Epoch 6/10\n",
      "62500/62500 [==============================] - 16s 251us/step - loss: 0.0740 - accuracy: 0.9775 - val_loss: 0.0380 - val_accuracy: 0.9876\n",
      "Epoch 7/10\n",
      "62500/62500 [==============================] - 16s 260us/step - loss: 0.0680 - accuracy: 0.9796 - val_loss: 0.0347 - val_accuracy: 0.9888\n",
      "Epoch 8/10\n",
      "62500/62500 [==============================] - 16s 250us/step - loss: 0.0625 - accuracy: 0.9817 - val_loss: 0.0322 - val_accuracy: 0.9895\n",
      "Epoch 9/10\n",
      "62500/62500 [==============================] - 16s 251us/step - loss: 0.0598 - accuracy: 0.9819 - val_loss: 0.0318 - val_accuracy: 0.9896\n",
      "Epoch 10/10\n",
      "62500/62500 [==============================] - 16s 250us/step - loss: 0.0536 - accuracy: 0.9836 - val_loss: 0.0314 - val_accuracy: 0.9907\n",
      "Training took 159.56786465644836 seconds.\n"
     ]
    }
   ],
   "source": [
    "import time\n",
    "start = time.time()\n",
    "model.fit(train_x,        # training data\n",
    "          train_y,        # training labels\n",
    "          batch_size=16,  # how many training examples you want to give at once\n",
    "          verbose=1,      # print progress in console\n",
    "          validation_data=(val_x, val_y),  # validation data to check generalization\n",
    "          epochs=10)       # how many times to go through the entire training set\n",
    "end = time.time()\n",
    "print(\"Training took\", end-start, \"seconds.\")\n"
   ]
  },
  {
   "cell_type": "code",
   "execution_count": 10,
   "metadata": {},
   "outputs": [],
   "source": [
    "import csv\n",
    "import os\n",
    "pred = np.argmax(model.predict(scan_test_x),axis = 1)\n",
    "with open('res.csv','w',newline='')as f:\n",
    "            csv_write=csv.writer(f)\n",
    "            csv_write.writerow(['Id','Category'])\n",
    "            for i in range(len(pred)):\n",
    "                csv_write.writerow([i,pred[i]])\n"
   ]
  }
 ],
 "metadata": {
  "kernelspec": {
   "display_name": "Python 3",
   "language": "python",
   "name": "python3"
  },
  "language_info": {
   "codemirror_mode": {
    "name": "ipython",
    "version": 3
   },
   "file_extension": ".py",
   "mimetype": "text/x-python",
   "name": "python",
   "nbconvert_exporter": "python",
   "pygments_lexer": "ipython3",
   "version": "3.6.6"
  }
 },
 "nbformat": 4,
 "nbformat_minor": 1
}
